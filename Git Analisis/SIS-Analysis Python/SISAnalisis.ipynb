{
 "cells": [
  {
   "cell_type": "code",
   "execution_count": 11,
   "id": "9a6cab8c",
   "metadata": {},
   "outputs": [],
   "source": [
    "import pandas as pd\n",
    "import numpy as np\n",
    "import matplotlib.pyplot as plt\n",
    "from empiricaldist import Pmf, Cdf\n",
    "from scipy import stats\n",
    "from scipy.stats import norm\n",
    "import seaborn as sns\n",
    "import sys\n",
    "from glob import glob"
   ]
  },
  {
   "cell_type": "code",
   "execution_count": 14,
   "id": "fbecadc3",
   "metadata": {},
   "outputs": [],
   "source": [
    "#sys.path.insert(1,r'C:\\Users\\52771\\OneDrive - Benemérita Universidad Autónoma de Puebla\\Análisis de Datos Primavera 2023\\projects\\SIS\\SIS-Analisis\\Municipal-Delitos-2015-2023_abr2023')"
   ]
  },
  {
   "cell_type": "code",
   "execution_count": 28,
   "id": "e02bc3f8",
   "metadata": {},
   "outputs": [
    {
     "data": {
      "text/html": [
       "<div>\n",
       "<style scoped>\n",
       "    .dataframe tbody tr th:only-of-type {\n",
       "        vertical-align: middle;\n",
       "    }\n",
       "\n",
       "    .dataframe tbody tr th {\n",
       "        vertical-align: top;\n",
       "    }\n",
       "\n",
       "    .dataframe thead th {\n",
       "        text-align: right;\n",
       "    }\n",
       "</style>\n",
       "<table border=\"1\" class=\"dataframe\">\n",
       "  <thead>\n",
       "    <tr style=\"text-align: right;\">\n",
       "      <th></th>\n",
       "      <th>Location</th>\n",
       "    </tr>\n",
       "  </thead>\n",
       "  <tbody>\n",
       "    <tr>\n",
       "      <th>0</th>\n",
       "      <td>C:\\Users\\52771\\OneDrive - Benemérita Universid...</td>\n",
       "    </tr>\n",
       "    <tr>\n",
       "      <th>1</th>\n",
       "      <td>C:\\Users\\52771\\OneDrive - Benemérita Universid...</td>\n",
       "    </tr>\n",
       "    <tr>\n",
       "      <th>2</th>\n",
       "      <td>C:\\Users\\52771\\OneDrive - Benemérita Universid...</td>\n",
       "    </tr>\n",
       "    <tr>\n",
       "      <th>3</th>\n",
       "      <td>C:\\Users\\52771\\OneDrive - Benemérita Universid...</td>\n",
       "    </tr>\n",
       "    <tr>\n",
       "      <th>4</th>\n",
       "      <td>C:\\Users\\52771\\OneDrive - Benemérita Universid...</td>\n",
       "    </tr>\n",
       "    <tr>\n",
       "      <th>5</th>\n",
       "      <td>C:\\Users\\52771\\OneDrive - Benemérita Universid...</td>\n",
       "    </tr>\n",
       "    <tr>\n",
       "      <th>6</th>\n",
       "      <td>C:\\Users\\52771\\OneDrive - Benemérita Universid...</td>\n",
       "    </tr>\n",
       "    <tr>\n",
       "      <th>7</th>\n",
       "      <td>C:\\Users\\52771\\OneDrive - Benemérita Universid...</td>\n",
       "    </tr>\n",
       "    <tr>\n",
       "      <th>8</th>\n",
       "      <td>C:\\Users\\52771\\OneDrive - Benemérita Universid...</td>\n",
       "    </tr>\n",
       "    <tr>\n",
       "      <th>9</th>\n",
       "      <td>C:\\Users\\52771\\OneDrive - Benemérita Universid...</td>\n",
       "    </tr>\n",
       "    <tr>\n",
       "      <th>10</th>\n",
       "      <td>C:\\Users\\52771\\OneDrive - Benemérita Universid...</td>\n",
       "    </tr>\n",
       "    <tr>\n",
       "      <th>11</th>\n",
       "      <td>C:\\Users\\52771\\OneDrive - Benemérita Universid...</td>\n",
       "    </tr>\n",
       "    <tr>\n",
       "      <th>12</th>\n",
       "      <td>C:\\Users\\52771\\OneDrive - Benemérita Universid...</td>\n",
       "    </tr>\n",
       "    <tr>\n",
       "      <th>13</th>\n",
       "      <td>C:\\Users\\52771\\OneDrive - Benemérita Universid...</td>\n",
       "    </tr>\n",
       "  </tbody>\n",
       "</table>\n",
       "</div>"
      ],
      "text/plain": [
       "                                             Location\n",
       "0   C:\\Users\\52771\\OneDrive - Benemérita Universid...\n",
       "1   C:\\Users\\52771\\OneDrive - Benemérita Universid...\n",
       "2   C:\\Users\\52771\\OneDrive - Benemérita Universid...\n",
       "3   C:\\Users\\52771\\OneDrive - Benemérita Universid...\n",
       "4   C:\\Users\\52771\\OneDrive - Benemérita Universid...\n",
       "5   C:\\Users\\52771\\OneDrive - Benemérita Universid...\n",
       "6   C:\\Users\\52771\\OneDrive - Benemérita Universid...\n",
       "7   C:\\Users\\52771\\OneDrive - Benemérita Universid...\n",
       "8   C:\\Users\\52771\\OneDrive - Benemérita Universid...\n",
       "9   C:\\Users\\52771\\OneDrive - Benemérita Universid...\n",
       "10  C:\\Users\\52771\\OneDrive - Benemérita Universid...\n",
       "11  C:\\Users\\52771\\OneDrive - Benemérita Universid...\n",
       "12  C:\\Users\\52771\\OneDrive - Benemérita Universid...\n",
       "13  C:\\Users\\52771\\OneDrive - Benemérita Universid..."
      ]
     },
     "execution_count": 28,
     "metadata": {},
     "output_type": "execute_result"
    }
   ],
   "source": [
    "paths=pd.DataFrame(glob(r\"C:\\Users\\52771\\OneDrive - Benemérita Universidad Autónoma de Puebla\\Análisis de Datos Primavera 2023\\projects\\SIS\\SIS-Analisis\\Municipal-Delitos-2015-2023_abr2023\\*\"))\n",
    "paths.columns=[\"Location\"]\n",
    "paths"
   ]
  },
  {
   "cell_type": "code",
   "execution_count": 26,
   "id": "2b26dad6",
   "metadata": {},
   "outputs": [
    {
     "ename": "IndentationError",
     "evalue": "expected an indented block (1807076015.py, line 2)",
     "output_type": "error",
     "traceback": [
      "\u001b[1;36m  File \u001b[1;32m\"C:\\Users\\52771\\AppData\\Local\\Temp\\ipykernel_19632\\1807076015.py\"\u001b[1;36m, line \u001b[1;32m2\u001b[0m\n\u001b[1;33m    for x in list(range(1,len(paths))):\u001b[0m\n\u001b[1;37m    ^\u001b[0m\n\u001b[1;31mIndentationError\u001b[0m\u001b[1;31m:\u001b[0m expected an indented block\n"
     ]
    }
   ],
   "source": [
    "for i in paths[\"Location\"]:\n",
    "    for x in list(range(1,len(paths))):\n",
    "        "
   ]
  },
  {
   "cell_type": "markdown",
   "id": "b5b9e409",
   "metadata": {},
   "source": [
    "# Importamos  bases de datos\n",
    "Desde excel importamos todos los archivos respecto a la incidencia delictiva"
   ]
  },
  {
   "cell_type": "code",
   "execution_count": null,
   "id": "c8522838",
   "metadata": {},
   "outputs": [],
   "source": [
    "Incidencia2015= pd.DataFrame(pd.read_excel(r\"C:\\Users\\52771\\OneDrive - Benemérita Universidad Autónoma de Puebla\\Análisis de Datos Primavera 2023\\projects\\SIS\\SIS-Analisis\\Municipal-Delitos-2015-2023_abr2023\\2015.xlsx\"))\n",
    "Incidencia2016= pd.DataFrame(pd.read_excel(r\"C:\\Users\\52771\\OneDrive - Benemérita Universidad Autónoma de Puebla\\Análisis de Datos Primavera 2023\\projects\\SIS\\SIS-Analisis\\Municipal-Delitos-2015-2023_abr2023\\2016.xlsx\"))\n",
    "Incidencia2017= pd.DataFrame(pd.read_excel(r\"C:\\Users\\52771\\OneDrive - Benemérita Universidad Autónoma de Puebla\\Análisis de Datos Primavera 2023\\projects\\SIS\\SIS-Analisis\\Municipal-Delitos-2015-2023_abr2023\\2017.xlsx\"))\n",
    "Incidencia2018= pd.DataFrame(pd.read_excel(r\"C:\\Users\\52771\\OneDrive - Benemérita Universidad Autónoma de Puebla\\Análisis de Datos Primavera 2023\\projects\\SIS\\SIS-Analisis\\Municipal-Delitos-2015-2023_abr2023\\2018.xlsx\"))\n",
    "Incidencia2019= pd.DataFrame(pd.read_excel(r\"C:\\Users\\52771\\OneDrive - Benemérita Universidad Autónoma de Puebla\\Análisis de Datos Primavera 2023\\projects\\SIS\\SIS-Analisis\\Municipal-Delitos-2015-2023_abr2023\\2019.xlsx\"))\n",
    "Incidencia2020= pd.DataFrame(pd.read_excel(r\"C:\\Users\\52771\\OneDrive - Benemérita Universidad Autónoma de Puebla\\Análisis de Datos Primavera 2023\\projects\\SIS\\SIS-Analisis\\Municipal-Delitos-2015-2023_abr2023\\2020.xlsx\"))\n",
    "Incidencia2021= pd.DataFrame(pd.read_excel(r\"C:\\Users\\52771\\OneDrive - Benemérita Universidad Autónoma de Puebla\\Análisis de Datos Primavera 2023\\projects\\SIS\\SIS-Analisis\\Municipal-Delitos-2015-2023_abr2023\\2021.xlsx\"))\n",
    "Incidencia2022= pd.DataFrame(pd.read_excel(r\"C:\\Users\\52771\\OneDrive - Benemérita Universidad Autónoma de Puebla\\Análisis de Datos Primavera 2023\\projects\\SIS\\SIS-Analisis\\Municipal-Delitos-2015-2023_abr2023\\2022.xlsx\"))\n",
    "Incidencia2023= pd.DataFrame(pd.read_excel(r\"C:\\Users\\52771\\OneDrive - Benemérita Universidad Autónoma de Puebla\\Análisis de Datos Primavera 2023\\projects\\SIS\\SIS-Analisis\\Municipal-Delitos-2015-2023_abr2023\\2023.xlsx\"))"
   ]
  },
  {
   "cell_type": "code",
   "execution_count": 73,
   "id": "2624a296",
   "metadata": {},
   "outputs": [],
   "source": [
    "Incidencia2015Puebla= Incidencia2015[Incidencia2015['Entidad'].str.contains(\"Puebla\")].groupby(['Municipio'])['Enero'].sum"
   ]
  },
  {
   "cell_type": "code",
   "execution_count": 81,
   "id": "d52a2bec",
   "metadata": {},
   "outputs": [
    {
     "data": {
      "text/plain": [
       "Municipio\n",
       "Acajete        16\n",
       "Acateno         0\n",
       "Acatlán        30\n",
       "Acatzingo      26\n",
       "Acteopan        0\n",
       "               ..\n",
       "Zihuateutla     2\n",
       "Zinacatepec     1\n",
       "Zongozotla      0\n",
       "Zoquiapan       0\n",
       "Zoquitlán       2\n",
       "Name: Enero, Length: 217, dtype: int64"
      ]
     },
     "execution_count": 81,
     "metadata": {},
     "output_type": "execute_result"
    }
   ],
   "source": [
    "Incidencia2015Puebla"
   ]
  },
  {
   "cell_type": "code",
   "execution_count": 72,
   "id": "40526829",
   "metadata": {},
   "outputs": [
    {
     "data": {
      "text/plain": [
       "0      20183\n",
       "1        636\n",
       "2        174\n",
       "3         70\n",
       "4         45\n",
       "5         27\n",
       "6         23\n",
       "7         16\n",
       "8          9\n",
       "9         11\n",
       "10         3\n",
       "11         9\n",
       "12         7\n",
       "13         5\n",
       "14         3\n",
       "15         2\n",
       "16         2\n",
       "17         4\n",
       "18         1\n",
       "19         1\n",
       "20         1\n",
       "21         3\n",
       "22         2\n",
       "23         2\n",
       "24         1\n",
       "25         1\n",
       "28         2\n",
       "29         1\n",
       "31         1\n",
       "32         1\n",
       "33         1\n",
       "34         1\n",
       "37         1\n",
       "55         1\n",
       "65         1\n",
       "66         1\n",
       "71         1\n",
       "74         2\n",
       "80         1\n",
       "97         1\n",
       "101        1\n",
       "117        1\n",
       "168        2\n",
       "186        1\n",
       "194        1\n",
       "195        1\n",
       "198        1\n",
       "213        1\n",
       "Name: Enero, dtype: int64"
      ]
     },
     "execution_count": 72,
     "metadata": {},
     "output_type": "execute_result"
    }
   ],
   "source": [
    "Incidencia2015Puebla['Enero'].value_counts().sort_index()"
   ]
  },
  {
   "cell_type": "code",
   "execution_count": 71,
   "id": "43fadeb0",
   "metadata": {},
   "outputs": [
    {
     "data": {
      "text/plain": [
       "<function matplotlib.pyplot.show(close=None, block=None)>"
      ]
     },
     "execution_count": 71,
     "metadata": {},
     "output_type": "execute_result"
    },
    {
     "data": {
      "image/png": "[encoded data removed]",
      "text/plain": [
       "<Figure size 640x480 with 1 Axes>"
      ]
     },
     "metadata": {},
     "output_type": "display_data"
    }
   ],
   "source": [
    "plt.hist(Incidencia2015Puebla['Enero'], bins=50,range=[0,10],align='mid')\n",
    "plt.ylabel(\"Número de incidencias\")\n",
    "plt.xlabel(\"Valores\")\n",
    "plt.show\n"
   ]
  }
 ],
 "metadata": {
  "kernelspec": {
   "display_name": "Python 3 (ipykernel)",
   "language": "python",
   "name": "python3"
  },
  "language_info": {
   "codemirror_mode": {
    "name": "ipython",
    "version": 3
   },
   "file_extension": ".py",
   "mimetype": "text/x-python",
   "name": "python",
   "nbconvert_exporter": "python",
   "pygments_lexer": "ipython3",
   "version": "3.10.9"
  }
 },
 "nbformat": 4,
 "nbformat_minor": 5
}
